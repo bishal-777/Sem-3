{
 "cells": [
  {
   "cell_type": "code",
   "execution_count": 247,
   "id": "f69248e9",
   "metadata": {},
   "outputs": [],
   "source": [
    "import pandas as pd\n",
    "import matplotlib.pyplot as plt\n",
    "import seaborn as sns\n",
    "import numpy as np"
   ]
  },
  {
   "cell_type": "code",
   "execution_count": 248,
   "id": "550fbcfa",
   "metadata": {},
   "outputs": [
    {
     "data": {
      "text/html": [
       "<div>\n",
       "<style scoped>\n",
       "    .dataframe tbody tr th:only-of-type {\n",
       "        vertical-align: middle;\n",
       "    }\n",
       "\n",
       "    .dataframe tbody tr th {\n",
       "        vertical-align: top;\n",
       "    }\n",
       "\n",
       "    .dataframe thead th {\n",
       "        text-align: right;\n",
       "    }\n",
       "</style>\n",
       "<table border=\"1\" class=\"dataframe\">\n",
       "  <thead>\n",
       "    <tr style=\"text-align: right;\">\n",
       "      <th></th>\n",
       "      <th>Unnamed: 0</th>\n",
       "      <th>age</th>\n",
       "      <th>sex</th>\n",
       "      <th>SysBP</th>\n",
       "      <th>DiaBP</th>\n",
       "      <th>HR</th>\n",
       "      <th>weightKg</th>\n",
       "      <th>heightCm</th>\n",
       "      <th>BMI</th>\n",
       "      <th>indication</th>\n",
       "    </tr>\n",
       "  </thead>\n",
       "  <tbody>\n",
       "    <tr>\n",
       "      <th>0</th>\n",
       "      <td>0</td>\n",
       "      <td>64</td>\n",
       "      <td>1</td>\n",
       "      <td>141</td>\n",
       "      <td>96</td>\n",
       "      <td>128</td>\n",
       "      <td>69</td>\n",
       "      <td>147</td>\n",
       "      <td>32.0</td>\n",
       "      <td>1</td>\n",
       "    </tr>\n",
       "    <tr>\n",
       "      <th>1</th>\n",
       "      <td>1</td>\n",
       "      <td>21</td>\n",
       "      <td>1</td>\n",
       "      <td>109</td>\n",
       "      <td>100</td>\n",
       "      <td>106</td>\n",
       "      <td>48</td>\n",
       "      <td>150</td>\n",
       "      <td>21.0</td>\n",
       "      <td>0</td>\n",
       "    </tr>\n",
       "    <tr>\n",
       "      <th>2</th>\n",
       "      <td>2</td>\n",
       "      <td>30</td>\n",
       "      <td>0</td>\n",
       "      <td>112</td>\n",
       "      <td>73</td>\n",
       "      <td>126</td>\n",
       "      <td>69</td>\n",
       "      <td>183</td>\n",
       "      <td>21.0</td>\n",
       "      <td>0</td>\n",
       "    </tr>\n",
       "    <tr>\n",
       "      <th>3</th>\n",
       "      <td>3</td>\n",
       "      <td>35</td>\n",
       "      <td>1</td>\n",
       "      <td>106</td>\n",
       "      <td>90</td>\n",
       "      <td>130</td>\n",
       "      <td>45</td>\n",
       "      <td>149</td>\n",
       "      <td>20.0</td>\n",
       "      <td>0</td>\n",
       "    </tr>\n",
       "    <tr>\n",
       "      <th>4</th>\n",
       "      <td>4</td>\n",
       "      <td>39</td>\n",
       "      <td>0</td>\n",
       "      <td>140</td>\n",
       "      <td>90</td>\n",
       "      <td>112</td>\n",
       "      <td>92</td>\n",
       "      <td>166</td>\n",
       "      <td>33.0</td>\n",
       "      <td>1</td>\n",
       "    </tr>\n",
       "  </tbody>\n",
       "</table>\n",
       "</div>"
      ],
      "text/plain": [
       "   Unnamed: 0  age  sex  SysBP  DiaBP   HR  weightKg  heightCm   BMI  \\\n",
       "0           0   64    1    141     96  128        69       147  32.0   \n",
       "1           1   21    1    109    100  106        48       150  21.0   \n",
       "2           2   30    0    112     73  126        69       183  21.0   \n",
       "3           3   35    1    106     90  130        45       149  20.0   \n",
       "4           4   39    0    140     90  112        92       166  33.0   \n",
       "\n",
       "   indication  \n",
       "0           1  \n",
       "1           0  \n",
       "2           0  \n",
       "3           0  \n",
       "4           1  "
      ]
     },
     "execution_count": 248,
     "metadata": {},
     "output_type": "execute_result"
    }
   ],
   "source": [
    "df1=pd.read_csv(\"./Health_heart_experimental.csv\")\n",
    "df1.head(5)"
   ]
  },
  {
   "cell_type": "code",
   "execution_count": 249,
   "id": "56f9b2b3",
   "metadata": {},
   "outputs": [
    {
     "data": {
      "text/html": [
       "<div>\n",
       "<style scoped>\n",
       "    .dataframe tbody tr th:only-of-type {\n",
       "        vertical-align: middle;\n",
       "    }\n",
       "\n",
       "    .dataframe tbody tr th {\n",
       "        vertical-align: top;\n",
       "    }\n",
       "\n",
       "    .dataframe thead th {\n",
       "        text-align: right;\n",
       "    }\n",
       "</style>\n",
       "<table border=\"1\" class=\"dataframe\">\n",
       "  <thead>\n",
       "    <tr style=\"text-align: right;\">\n",
       "      <th></th>\n",
       "      <th>Unnamed: 0</th>\n",
       "      <th>age</th>\n",
       "      <th>sex</th>\n",
       "      <th>SysBP</th>\n",
       "      <th>DiaBP</th>\n",
       "      <th>HR</th>\n",
       "      <th>weightKg</th>\n",
       "      <th>heightCm</th>\n",
       "      <th>BMI</th>\n",
       "      <th>indication</th>\n",
       "    </tr>\n",
       "  </thead>\n",
       "  <tbody>\n",
       "    <tr>\n",
       "      <th>38254</th>\n",
       "      <td>38254</td>\n",
       "      <td>20</td>\n",
       "      <td>0</td>\n",
       "      <td>133</td>\n",
       "      <td>106</td>\n",
       "      <td>178</td>\n",
       "      <td>92</td>\n",
       "      <td>181</td>\n",
       "      <td>28.0</td>\n",
       "      <td>0</td>\n",
       "    </tr>\n",
       "    <tr>\n",
       "      <th>47592</th>\n",
       "      <td>47592</td>\n",
       "      <td>20</td>\n",
       "      <td>0</td>\n",
       "      <td>146</td>\n",
       "      <td>77</td>\n",
       "      <td>151</td>\n",
       "      <td>81</td>\n",
       "      <td>184</td>\n",
       "      <td>24.0</td>\n",
       "      <td>0</td>\n",
       "    </tr>\n",
       "    <tr>\n",
       "      <th>23600</th>\n",
       "      <td>23600</td>\n",
       "      <td>20</td>\n",
       "      <td>1</td>\n",
       "      <td>117</td>\n",
       "      <td>84</td>\n",
       "      <td>103</td>\n",
       "      <td>83</td>\n",
       "      <td>164</td>\n",
       "      <td>31.0</td>\n",
       "      <td>0</td>\n",
       "    </tr>\n",
       "    <tr>\n",
       "      <th>23594</th>\n",
       "      <td>23594</td>\n",
       "      <td>20</td>\n",
       "      <td>0</td>\n",
       "      <td>124</td>\n",
       "      <td>112</td>\n",
       "      <td>155</td>\n",
       "      <td>106</td>\n",
       "      <td>175</td>\n",
       "      <td>35.0</td>\n",
       "      <td>1</td>\n",
       "    </tr>\n",
       "    <tr>\n",
       "      <th>31336</th>\n",
       "      <td>31336</td>\n",
       "      <td>20</td>\n",
       "      <td>1</td>\n",
       "      <td>140</td>\n",
       "      <td>98</td>\n",
       "      <td>111</td>\n",
       "      <td>69</td>\n",
       "      <td>161</td>\n",
       "      <td>27.0</td>\n",
       "      <td>0</td>\n",
       "    </tr>\n",
       "  </tbody>\n",
       "</table>\n",
       "</div>"
      ],
      "text/plain": [
       "       Unnamed: 0  age  sex  SysBP  DiaBP   HR  weightKg  heightCm   BMI  \\\n",
       "38254       38254   20    0    133    106  178        92       181  28.0   \n",
       "47592       47592   20    0    146     77  151        81       184  24.0   \n",
       "23600       23600   20    1    117     84  103        83       164  31.0   \n",
       "23594       23594   20    0    124    112  155       106       175  35.0   \n",
       "31336       31336   20    1    140     98  111        69       161  27.0   \n",
       "\n",
       "       indication  \n",
       "38254           0  \n",
       "47592           0  \n",
       "23600           0  \n",
       "23594           1  \n",
       "31336           0  "
      ]
     },
     "execution_count": 249,
     "metadata": {},
     "output_type": "execute_result"
    }
   ],
   "source": [
    "df2=df1.sort_values(by=[\"age\"],ascending=[True])\n",
    "df2.head(5)"
   ]
  },
  {
   "cell_type": "code",
   "execution_count": 250,
   "id": "48693e05",
   "metadata": {},
   "outputs": [
    {
     "data": {
      "text/html": [
       "<div>\n",
       "<style scoped>\n",
       "    .dataframe tbody tr th:only-of-type {\n",
       "        vertical-align: middle;\n",
       "    }\n",
       "\n",
       "    .dataframe tbody tr th {\n",
       "        vertical-align: top;\n",
       "    }\n",
       "\n",
       "    .dataframe thead th {\n",
       "        text-align: right;\n",
       "    }\n",
       "</style>\n",
       "<table border=\"1\" class=\"dataframe\">\n",
       "  <thead>\n",
       "    <tr style=\"text-align: right;\">\n",
       "      <th></th>\n",
       "      <th>Unnamed: 0</th>\n",
       "      <th>age</th>\n",
       "      <th>sex</th>\n",
       "      <th>SysBP</th>\n",
       "      <th>DiaBP</th>\n",
       "      <th>HR</th>\n",
       "      <th>weightKg</th>\n",
       "      <th>heightCm</th>\n",
       "      <th>BMI</th>\n",
       "      <th>indication</th>\n",
       "    </tr>\n",
       "  </thead>\n",
       "  <tbody>\n",
       "    <tr>\n",
       "      <th>38254</th>\n",
       "      <td>38254</td>\n",
       "      <td>20</td>\n",
       "      <td>Male</td>\n",
       "      <td>133</td>\n",
       "      <td>106</td>\n",
       "      <td>178</td>\n",
       "      <td>92</td>\n",
       "      <td>181</td>\n",
       "      <td>28.0</td>\n",
       "      <td>0</td>\n",
       "    </tr>\n",
       "    <tr>\n",
       "      <th>47592</th>\n",
       "      <td>47592</td>\n",
       "      <td>20</td>\n",
       "      <td>Male</td>\n",
       "      <td>146</td>\n",
       "      <td>77</td>\n",
       "      <td>151</td>\n",
       "      <td>81</td>\n",
       "      <td>184</td>\n",
       "      <td>24.0</td>\n",
       "      <td>0</td>\n",
       "    </tr>\n",
       "    <tr>\n",
       "      <th>23600</th>\n",
       "      <td>23600</td>\n",
       "      <td>20</td>\n",
       "      <td>Female</td>\n",
       "      <td>117</td>\n",
       "      <td>84</td>\n",
       "      <td>103</td>\n",
       "      <td>83</td>\n",
       "      <td>164</td>\n",
       "      <td>31.0</td>\n",
       "      <td>0</td>\n",
       "    </tr>\n",
       "    <tr>\n",
       "      <th>23594</th>\n",
       "      <td>23594</td>\n",
       "      <td>20</td>\n",
       "      <td>Male</td>\n",
       "      <td>124</td>\n",
       "      <td>112</td>\n",
       "      <td>155</td>\n",
       "      <td>106</td>\n",
       "      <td>175</td>\n",
       "      <td>35.0</td>\n",
       "      <td>1</td>\n",
       "    </tr>\n",
       "    <tr>\n",
       "      <th>31336</th>\n",
       "      <td>31336</td>\n",
       "      <td>20</td>\n",
       "      <td>Female</td>\n",
       "      <td>140</td>\n",
       "      <td>98</td>\n",
       "      <td>111</td>\n",
       "      <td>69</td>\n",
       "      <td>161</td>\n",
       "      <td>27.0</td>\n",
       "      <td>0</td>\n",
       "    </tr>\n",
       "  </tbody>\n",
       "</table>\n",
       "</div>"
      ],
      "text/plain": [
       "       Unnamed: 0  age     sex  SysBP  DiaBP   HR  weightKg  heightCm   BMI  \\\n",
       "38254       38254   20    Male    133    106  178        92       181  28.0   \n",
       "47592       47592   20    Male    146     77  151        81       184  24.0   \n",
       "23600       23600   20  Female    117     84  103        83       164  31.0   \n",
       "23594       23594   20    Male    124    112  155       106       175  35.0   \n",
       "31336       31336   20  Female    140     98  111        69       161  27.0   \n",
       "\n",
       "       indication  \n",
       "38254           0  \n",
       "47592           0  \n",
       "23600           0  \n",
       "23594           1  \n",
       "31336           0  "
      ]
     },
     "execution_count": 250,
     "metadata": {},
     "output_type": "execute_result"
    }
   ],
   "source": [
    "df=df2.head(50)\n",
    "df.loc[:,'sex']=df['sex'].replace({0:'Male',1:'Female'})\n",
    "df.head(5)"
   ]
  },
  {
   "cell_type": "code",
   "execution_count": 251,
   "id": "cd58f219",
   "metadata": {},
   "outputs": [],
   "source": [
    "age=np.array(df[\"age\"])\n",
    "bmi=np.array(df[\"BMI\"])\n",
    "#age=df1[\"age\"]\n",
    "#bmi=df1[\"BMI\"]"
   ]
  },
  {
   "cell_type": "markdown",
   "id": "8293f85b",
   "metadata": {},
   "source": [
    "# Line chart"
   ]
  },
  {
   "cell_type": "code",
   "execution_count": 252,
   "id": "a30fd276",
   "metadata": {},
   "outputs": [
    {
     "data": {
      "text/plain": [
       "Text(0, 0.5, 'BMI')"
      ]
     },
     "execution_count": 252,
     "metadata": {},
     "output_type": "execute_result"
    },
    {
     "data": {
      "image/png": "[encoded data removed]",
      "text/plain": [
       "<Figure size 640x480 with 1 Axes>"
      ]
     },
     "metadata": {},
     "output_type": "display_data"
    }
   ],
   "source": [
    "plt.plot(age,bmi,marker='o',linestyle='solid')\n",
    "plt.title(\"BMI vs Age line graph\")\n",
    "plt.xlabel(\"Age\")\n",
    "plt.ylabel(\"BMI\")"
   ]
  },
  {
   "cell_type": "markdown",
   "id": "221cbfc5",
   "metadata": {},
   "source": [
    "# Bar plot"
   ]
  },
  {
   "cell_type": "code",
   "execution_count": 253,
   "id": "c6d11cdc",
   "metadata": {},
   "outputs": [],
   "source": [
    "sex=np.array(df[\"sex\"])\n",
    "weight=np.array(df[\"weightKg\"])"
   ]
  },
  {
   "cell_type": "code",
   "execution_count": 254,
   "id": "d9f0ddd1",
   "metadata": {},
   "outputs": [
    {
     "data": {
      "text/plain": [
       "([<matplotlib.axis.XTick at 0x79b780f66510>,\n",
       "  <matplotlib.axis.XTick at 0x79b780f43770>],\n",
       " [Text(0, 0, 'Male'), Text(1, 0, 'Female')])"
      ]
     },
     "execution_count": 254,
     "metadata": {},
     "output_type": "execute_result"
    },
    {
     "data": {
      "image/png": "[encoded data removed]",
      "text/plain": [
       "<Figure size 640x480 with 1 Axes>"
      ]
     },
     "metadata": {},
     "output_type": "display_data"
    }
   ],
   "source": [
    "plt.bar(sex,weight)\n",
    "plt.xticks([0,1],[\"Male\",\"Female\"])"
   ]
  },
  {
   "cell_type": "markdown",
   "id": "852dad1e",
   "metadata": {},
   "source": [
    "# Pie Chart"
   ]
  },
  {
   "cell_type": "code",
   "execution_count": 255,
   "id": "a3e63686",
   "metadata": {},
   "outputs": [
    {
     "data": {
      "text/plain": [
       "<AxesSubplot: ylabel='count'>"
      ]
     },
     "execution_count": 255,
     "metadata": {},
     "output_type": "execute_result"
    },
    {
     "data": {
      "image/png": "[encoded data removed]",
      "text/plain": [
       "<Figure size 640x480 with 1 Axes>"
      ]
     },
     "metadata": {},
     "output_type": "display_data"
    }
   ],
   "source": [
    "\n",
    "df['sex'].value_counts().plot(kind='pie',autopct='%0.2f')"
   ]
  },
  {
   "cell_type": "markdown",
   "id": "9686d478",
   "metadata": {},
   "source": [
    "# Box plot"
   ]
  },
  {
   "cell_type": "code",
   "execution_count": 256,
   "id": "923f4de9",
   "metadata": {},
   "outputs": [
    {
     "data": {
      "text/plain": [
       "<AxesSubplot: xlabel='sex', ylabel='weightKg'>"
      ]
     },
     "execution_count": 256,
     "metadata": {},
     "output_type": "execute_result"
    },
    {
     "data": {
      "image/png": "[encoded data removed]",
      "text/plain": [
       "<Figure size 640x480 with 1 Axes>"
      ]
     },
     "metadata": {},
     "output_type": "display_data"
    }
   ],
   "source": [
    "sns.boxplot(x='sex',y='weightKg',hue=\"indication\",data=df)"
   ]
  },
  {
   "cell_type": "code",
   "execution_count": 257,
   "id": "9e606c07",
   "metadata": {},
   "outputs": [],
   "source": [
    "## This box plot shows that male have more chance of being affted by disease than female"
   ]
  },
  {
   "cell_type": "markdown",
   "id": "897cf9f3",
   "metadata": {},
   "source": [
    "# Histogram"
   ]
  },
  {
   "cell_type": "code",
   "execution_count": 258,
   "id": "6d846973",
   "metadata": {},
   "outputs": [
    {
     "data": {
      "text/plain": [
       "(array([2., 0., 6., 8., 5., 9., 6., 7., 4., 3.]),\n",
       " array([14. , 16.6, 19.2, 21.8, 24.4, 27. , 29.6, 32.2, 34.8, 37.4, 40. ]),\n",
       " <BarContainer object of 10 artists>)"
      ]
     },
     "execution_count": 258,
     "metadata": {},
     "output_type": "execute_result"
    },
    {
     "data": {
      "image/png": "[encoded data removed]",
      "text/plain": [
       "<Figure size 640x480 with 1 Axes>"
      ]
     },
     "metadata": {},
     "output_type": "display_data"
    }
   ],
   "source": [
    "plt.hist(df['BMI'])"
   ]
  },
  {
   "cell_type": "markdown",
   "id": "4123b756",
   "metadata": {},
   "source": [
    "# Scatter plot"
   ]
  },
  {
   "cell_type": "code",
   "execution_count": 260,
   "id": "eaa4e2dd",
   "metadata": {},
   "outputs": [
    {
     "data": {
      "text/plain": [
       "<AxesSubplot: xlabel='weightKg', ylabel='BMI'>"
      ]
     },
     "execution_count": 260,
     "metadata": {},
     "output_type": "execute_result"
    },
    {
     "data": {
      "image/png": "[encoded data removed]",
      "text/plain": [
       "<Figure size 640x480 with 1 Axes>"
      ]
     },
     "metadata": {},
     "output_type": "display_data"
    }
   ],
   "source": [
    "sns.scatterplot(data=df,x=\"weightKg\",y=\"BMI\",hue=\"sex\")"
   ]
  },
  {
   "cell_type": "code",
   "execution_count": null,
   "id": "90eef3b4",
   "metadata": {},
   "outputs": [],
   "source": []
  }
 ],
 "metadata": {
  "kernelspec": {
   "display_name": "Python 3",
   "language": "python",
   "name": "python3"
  },
  "language_info": {
   "codemirror_mode": {
    "name": "ipython",
    "version": 3
   },
   "file_extension": ".py",
   "mimetype": "text/x-python",
   "name": "python",
   "nbconvert_exporter": "python",
   "pygments_lexer": "ipython3",
   "version": "3.12.3"
  }
 },
 "nbformat": 4,
 "nbformat_minor": 5
}
