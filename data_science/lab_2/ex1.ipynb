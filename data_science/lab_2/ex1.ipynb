{
 "cells": [
  {
   "cell_type": "markdown",
   "id": "cbb04f0a",
   "metadata": {},
   "source": [
    "# Python programming"
   ]
  },
  {
   "cell_type": "code",
   "execution_count": 13,
   "id": "17f2e42e",
   "metadata": {},
   "outputs": [
    {
     "name": "stdout",
     "output_type": "stream",
     "text": [
      "Hello World\n"
     ]
    }
   ],
   "source": [
    "print(\"Hello World\")"
   ]
  },
  {
   "cell_type": "markdown",
   "id": "20df46ec",
   "metadata": {},
   "source": [
    "## if else statement"
   ]
  },
  {
   "cell_type": "code",
   "execution_count": 11,
   "id": "a288a4e0",
   "metadata": {},
   "outputs": [
    {
     "name": "stdout",
     "output_type": "stream",
     "text": [
      "Enter you age:15\n"
     ]
    }
   ],
   "source": [
    "age=int(input(\"Enter you age:\"))\n"
   ]
  },
  {
   "cell_type": "code",
   "execution_count": null,
   "id": "3fdd5679",
   "metadata": {},
   "outputs": [],
   "source": [
    "if age>16:\n",
    "    print(\"You can get citizenship\")\n",
    "else:\n",
    "    print(\"You cannot get citizenship\")"
   ]
  },
  {
   "cell_type": "markdown",
   "id": "5e22d578",
   "metadata": {},
   "source": [
    "## if elif statement"
   ]
  },
  {
   "cell_type": "code",
   "execution_count": 30,
   "id": "572fd7eb",
   "metadata": {},
   "outputs": [
    {
     "name": "stdout",
     "output_type": "stream",
     "text": [
      "Enter any number:52\n"
     ]
    }
   ],
   "source": [
    "num=int(input(\"Enter any number:\"))"
   ]
  },
  {
   "cell_type": "code",
   "execution_count": 31,
   "id": "d9d09ee6",
   "metadata": {},
   "outputs": [
    {
     "name": "stdout",
     "output_type": "stream",
     "text": [
      "number is betweeen 0-50\n"
     ]
    }
   ],
   "source": [
    "iszero,iszero_tofifty,isfifty_tohundred=False"
   ]
  },
  {
   "cell_type": "code",
   "execution_count": 25,
   "id": "3aab80eb",
   "metadata": {},
   "outputs": [
    {
     "name": "stdout",
     "output_type": "stream",
     "text": [
      "number is betweeen 0-50\n"
     ]
    }
   ],
   "source": [
    "if iszero==True:\n",
    "    \n",
    "elif iszero_tofifty==True:\n",
    "    \n",
    "elif isfifty_tohundred==True:\n",
    "    "
   ]
  },
  {
   "cell_type": "code",
   "execution_count": null,
   "id": "10fb1ac8",
   "metadata": {},
   "outputs": [],
   "source": []
  }
 ],
 "metadata": {
  "kernelspec": {
   "display_name": "Python 3 (ipykernel)",
   "language": "python",
   "name": "python3"
  },
  "language_info": {
   "codemirror_mode": {
    "name": "ipython",
    "version": 3
   },
   "file_extension": ".py",
   "mimetype": "text/x-python",
   "name": "python",
   "nbconvert_exporter": "python",
   "pygments_lexer": "ipython3",
   "version": "3.12.3"
  }
 },
 "nbformat": 4,
 "nbformat_minor": 5
}
