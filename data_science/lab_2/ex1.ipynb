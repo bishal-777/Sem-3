{
 "cells": [
  {
   "cell_type": "markdown",
   "id": "8060c591",
   "metadata": {},
   "source": [
    "# This program is the guess the number game"
   ]
  },
  {
   "cell_type": "code",
   "execution_count": 27,
   "id": "1aa51740",
   "metadata": {},
   "outputs": [],
   "source": [
    "import random as r"
   ]
  },
  {
   "cell_type": "code",
   "execution_count": 28,
   "id": "f0f6e14a",
   "metadata": {},
   "outputs": [],
   "source": [
    "def game():\n",
    "    print(\"This is guess the number game.\")\n",
    "    ans=r.randint(1,100)\n",
    "    attempt,max_attempt=0,5\n",
    "    \n",
    "    while attempt<max_attempt:\n",
    "        guess=int(input(\"Enter a number between 1-100:\"))\n",
    "        attempt+=1\n",
    "            \n",
    "        if guess==ans:\n",
    "            print(\"You have guessed the correct number!\")\n",
    "            break\n",
    "        elif guess>ans:\n",
    "              print(\"the number is lower than you guessed\")\n",
    "        else:\n",
    "              print(\"the number is higher than you guessed\")\n",
    "          \n",
    "        if attempt==max_attempt:\n",
    "              print(\"Game over!You used all of your attempts.The number is :\",ans)"
   ]
  },
  {
   "cell_type": "code",
   "execution_count": 29,
   "id": "ec9e2f61",
   "metadata": {},
   "outputs": [
    {
     "name": "stdout",
     "output_type": "stream",
     "text": [
      "This is guess the number game.\n",
      "Enter a number between 1-100:46\n",
      "the number is higher than you guessed\n",
      "Enter a number between 1-100:76\n",
      "the number is higher than you guessed\n",
      "Enter a number between 1-100:86\n",
      "the number is higher than you guessed\n",
      "Enter a number between 1-100:96\n",
      "the number is lower than you guessed\n",
      "Enter a number between 1-100:90\n",
      "the number is higher than you guessed\n",
      "Game over!You used all of your attempts.The number is : 91\n"
     ]
    }
   ],
   "source": [
    "game()"
   ]
  },
  {
   "cell_type": "code",
   "execution_count": null,
   "id": "2ce065a4",
   "metadata": {},
   "outputs": [],
   "source": []
  }
 ],
 "metadata": {
  "kernelspec": {
   "display_name": "Python 3 (ipykernel)",
   "language": "python",
   "name": "python3"
  },
  "language_info": {
   "codemirror_mode": {
    "name": "ipython",
    "version": 3
   },
   "file_extension": ".py",
   "mimetype": "text/x-python",
   "name": "python",
   "nbconvert_exporter": "python",
   "pygments_lexer": "ipython3",
   "version": "3.12.3"
  }
 },
 "nbformat": 4,
 "nbformat_minor": 5
}
