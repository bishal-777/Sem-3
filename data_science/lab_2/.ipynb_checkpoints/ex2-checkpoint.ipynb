{
 "cells": [
  {
   "cell_type": "code",
   "execution_count": 11,
   "id": "a6954715",
   "metadata": {},
   "outputs": [],
   "source": [
    "def generate_fibo(n):\n",
    "    a,b,i=0,1,0\n",
    "    while(i<n):\n",
    "        print(a,end=' ')\n",
    "        c=a+b\n",
    "        a=b\n",
    "        b=c\n",
    "        i+=1"
   ]
  },
  {
   "cell_type": "code",
   "execution_count": 12,
   "id": "d7b57569",
   "metadata": {},
   "outputs": [
    {
     "name": "stdout",
     "output_type": "stream",
     "text": [
      "Enter nth term for fibonnaci series10\n",
      "0 1 1 2 3 5 8 13 21 34 "
     ]
    }
   ],
   "source": [
    "n=int(input(\"Enter nth term for fibonnaci series\"))\n",
    "generate_fibo(n)"
   ]
  },
  {
   "cell_type": "code",
   "execution_count": null,
   "id": "1b16a7f4",
   "metadata": {},
   "outputs": [],
   "source": []
  }
 ],
 "metadata": {
  "kernelspec": {
   "display_name": "Python 3 (ipykernel)",
   "language": "python",
   "name": "python3"
  },
  "language_info": {
   "codemirror_mode": {
    "name": "ipython",
    "version": 3
   },
   "file_extension": ".py",
   "mimetype": "text/x-python",
   "name": "python",
   "nbconvert_exporter": "python",
   "pygments_lexer": "ipython3",
   "version": "3.12.3"
  }
 },
 "nbformat": 4,
 "nbformat_minor": 5
}
