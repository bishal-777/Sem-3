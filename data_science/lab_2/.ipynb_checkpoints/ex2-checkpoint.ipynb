{
 "cells": [
  {
   "cell_type": "markdown",
   "id": "a8a73cc7",
   "metadata": {},
   "source": [
    "# This program generates fibonacci series upto 8 terms"
   ]
  },
  {
   "cell_type": "code",
   "execution_count": 13,
   "id": "6eae798a",
   "metadata": {},
   "outputs": [],
   "source": [
    "def generate_fibo(n):\n",
    "    a,b,i=0,1,0\n",
    "    while(i<n):\n",
    "        print(a,end=' ')\n",
    "        c=a+b\n",
    "        a=b\n",
    "        b=c\n",
    "        i+=1"
   ]
  },
  {
   "cell_type": "code",
   "execution_count": 14,
   "id": "6c7bc076",
   "metadata": {},
   "outputs": [
    {
     "name": "stdout",
     "output_type": "stream",
     "text": [
      "Enter nth term for fibonnaci series10\n",
      "0 1 1 2 3 5 8 13 21 34 "
     ]
    }
   ],
   "source": [
    "n=int(input(\"Enter nth term for fibonnaci series\"))\n",
    "generate_fibo(n)"
   ]
  },
  {
   "cell_type": "code",
   "execution_count": null,
   "id": "5052cc97",
   "metadata": {},
   "outputs": [],
   "source": []
  }
 ],
 "metadata": {
  "kernelspec": {
   "display_name": "Python 3 (ipykernel)",
   "language": "python",
   "name": "python3"
  },
  "language_info": {
   "codemirror_mode": {
    "name": "ipython",
    "version": 3
   },
   "file_extension": ".py",
   "mimetype": "text/x-python",
   "name": "python",
   "nbconvert_exporter": "python",
   "pygments_lexer": "ipython3",
   "version": "3.12.3"
  }
 },
 "nbformat": 4,
 "nbformat_minor": 5
}
