{
 "cells": [
  {
   "cell_type": "code",
   "execution_count": 10,
   "id": "e52ff30c",
   "metadata": {},
   "outputs": [
    {
     "name": "stdout",
     "output_type": "stream",
     "text": [
      "Enter nth term5\n"
     ]
    }
   ],
   "source": [
    "n=int(input(\"Enter nth term\"))"
   ]
  },
  {
   "cell_type": "code",
   "execution_count": 13,
   "id": "9179ca22",
   "metadata": {},
   "outputs": [],
   "source": [
    "sum,i=0,0\n",
    "while i<=n:\n",
    "    \n",
    "    sum+=i\n",
    "    i+=1\n"
   ]
  },
  {
   "cell_type": "code",
   "execution_count": 14,
   "id": "4d3c9083",
   "metadata": {},
   "outputs": [
    {
     "name": "stdout",
     "output_type": "stream",
     "text": [
      "15\n"
     ]
    }
   ],
   "source": [
    "print(sum)"
   ]
  },
  {
   "cell_type": "code",
   "execution_count": 2,
   "id": "92c2da8a",
   "metadata": {},
   "outputs": [],
   "source": [
    "name=['ram',54,True]\n"
   ]
  },
  {
   "cell_type": "code",
   "execution_count": 4,
   "id": "df05d579",
   "metadata": {},
   "outputs": [
    {
     "name": "stdout",
     "output_type": "stream",
     "text": [
      "position0 and value ->ram\n",
      "position1 and value ->54\n",
      "position2 and value ->True\n"
     ]
    }
   ],
   "source": [
    "for index,value in enumerate(name):\n",
    "    print(f'position{index} and value ->{value}')"
   ]
  },
  {
   "cell_type": "markdown",
   "id": "17519f2d",
   "metadata": {},
   "source": [
    "## function"
   ]
  },
  {
   "cell_type": "code",
   "execution_count": 7,
   "id": "732c3614",
   "metadata": {},
   "outputs": [
    {
     "name": "stdout",
     "output_type": "stream",
     "text": [
      "sum=12\n",
      "5\n"
     ]
    }
   ],
   "source": [
    "def add(a,b):\n",
    "    sum=a+b\n",
    "    print(f'sum={sum}')\n",
    "    \n",
    "    \n",
    "def diff(a,b):\n",
    "    d=a-b\n",
    "    return d\n",
    "\n",
    "\n",
    "add(5,7)\n",
    "sub=diff(7,2)\n",
    "print(sub)"
   ]
  },
  {
   "cell_type": "code",
   "execution_count": 30,
   "id": "57686405",
   "metadata": {},
   "outputs": [
    {
     "name": "stdout",
     "output_type": "stream",
     "text": [
      "Enter any number:16\n",
      "Not prime number\n"
     ]
    }
   ],
   "source": [
    "n=int(input(\"Enter any number:\"))\n",
    "\n",
    "def prime(n):\n",
    "    is_pr=False\n",
    "    for i in range (2,n):\n",
    "        if n%i==0:\n",
    "            print(\"Not prime number\")\n",
    "            break\n",
    "            is_pr=True\n",
    "    if is_pr==True:\n",
    "        print(\"Prime number\")\n",
    "prime(n)"
   ]
  }
 ],
 "metadata": {
  "kernelspec": {
   "display_name": "Python 3 (ipykernel)",
   "language": "python",
   "name": "python3"
  },
  "language_info": {
   "codemirror_mode": {
    "name": "ipython",
    "version": 3
   },
   "file_extension": ".py",
   "mimetype": "text/x-python",
   "name": "python",
   "nbconvert_exporter": "python",
   "pygments_lexer": "ipython3",
   "version": "3.12.3"
  }
 },
 "nbformat": 4,
 "nbformat_minor": 5
}
