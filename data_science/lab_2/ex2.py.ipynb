{
 "cells": [
  {
   "cell_type": "markdown",
   "id": "0e7bcf9c",
   "metadata": {},
   "source": [
    "# # loops"
   ]
  },
  {
   "cell_type": "markdown",
   "id": "9ecc1add",
   "metadata": {},
   "source": [
    "n=int(input(\"Enter nth number:\"))"
   ]
  },
  {
   "cell_type": "markdown",
   "id": "a15a5d03",
   "metadata": {},
   "source": [
    "sum,i=0,0\n",
    "for i in range(n+1):\n",
    "    if i==5:\n",
    "        continue\n",
    "    sum+=i"
   ]
  },
  {
   "cell_type": "markdown",
   "id": "5f9f1e32",
   "metadata": {},
   "source": [
    "print(sum)"
   ]
  },
  {
   "cell_type": "markdown",
   "id": "5da3b849",
   "metadata": {},
   "source": [
    "sum,i=0,0\n",
    "while(i<=n):\n",
    "    sum+=1\n",
    "print(sum)"
   ]
  },
  {
   "cell_type": "code",
   "execution_count": null,
   "id": "eeaa2b18",
   "metadata": {},
   "outputs": [],
   "source": [
    "n=5"
   ]
  },
  {
   "cell_type": "code",
   "execution_count": null,
   "id": "80b21ff4",
   "metadata": {},
   "outputs": [],
   "source": [
    "sum,i=0,0\n",
    "while(i<=n):\n",
    "    sum+=1\n",
    "print(sum)"
   ]
  },
  {
   "cell_type": "code",
   "execution_count": null,
   "id": "7ecee4a3",
   "metadata": {},
   "outputs": [],
   "source": []
  }
 ],
 "metadata": {
  "kernelspec": {
   "display_name": "Python 3 (ipykernel)",
   "language": "python",
   "name": "python3"
  },
  "language_info": {
   "codemirror_mode": {
    "name": "ipython",
    "version": 3
   },
   "file_extension": ".py",
   "mimetype": "text/x-python",
   "name": "python",
   "nbconvert_exporter": "python",
   "pygments_lexer": "ipython3",
   "version": "3.12.3"
  }
 },
 "nbformat": 4,
 "nbformat_minor": 5
}
