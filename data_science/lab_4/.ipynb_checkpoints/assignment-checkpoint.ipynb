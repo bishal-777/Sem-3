{
 "cells": [
  {
   "cell_type": "markdown",
   "id": "75676c54",
   "metadata": {},
   "source": [
    "# Assignment on Linear algebra"
   ]
  },
  {
   "cell_type": "code",
   "execution_count": 120,
   "id": "fbfc62f7",
   "metadata": {},
   "outputs": [],
   "source": [
    "import numpy as np"
   ]
  },
  {
   "cell_type": "code",
   "execution_count": 121,
   "id": "e8da2c99",
   "metadata": {},
   "outputs": [],
   "source": [
    "A=np.array([\n",
    "    [2,-1],\n",
    "    [0,3]\n",
    "])\n",
    "B=np.array([\n",
    "    [1,2],\n",
    "    [-3,4]\n",
    "])"
   ]
  },
  {
   "cell_type": "markdown",
   "id": "de189dc0",
   "metadata": {},
   "source": [
    "## Qns no. 1"
   ]
  },
  {
   "cell_type": "code",
   "execution_count": 122,
   "id": "34f04f08",
   "metadata": {},
   "outputs": [
    {
     "name": "stdout",
     "output_type": "stream",
     "text": [
      "A+B=[[ 3  1]\n",
      " [-3  7]]\n",
      "A.B=[[ 5  0]\n",
      " [-9 12]]\n",
      "3A-2B=[[ 4 -7]\n",
      " [ 6  1]]\n"
     ]
    }
   ],
   "source": [
    "print(f\"A+B={A+B}\")\n",
    "print(f\"A.B={np.matmul(A,B)}\")\n",
    "print(f\"3A-2B={3*A-2*B}\")"
   ]
  },
  {
   "cell_type": "markdown",
   "id": "742a3d60",
   "metadata": {},
   "source": [
    "## Qns no. 2"
   ]
  },
  {
   "cell_type": "code",
   "execution_count": 123,
   "id": "9a72fd82",
   "metadata": {},
   "outputs": [],
   "source": [
    "from numpy import linalg as LA"
   ]
  },
  {
   "cell_type": "code",
   "execution_count": 124,
   "id": "0e084bf5",
   "metadata": {},
   "outputs": [
    {
     "name": "stdout",
     "output_type": "stream",
     "text": [
      "|A|=6.0\n"
     ]
    }
   ],
   "source": [
    "print(f\"|A|={LA.det(A)}\")"
   ]
  },
  {
   "cell_type": "markdown",
   "id": "7412a69d",
   "metadata": {},
   "source": [
    "Since |A|≠0,A is invertible i.e. $A^{-1}$ exist"
   ]
  },
  {
   "cell_type": "code",
   "execution_count": 125,
   "id": "b82959ea",
   "metadata": {},
   "outputs": [
    {
     "name": "stdout",
     "output_type": "stream",
     "text": [
      "A-1=[[0.5        0.16666667]\n",
      " [0.         0.33333333]]\n"
     ]
    }
   ],
   "source": [
    "print(f\"A-1={LA.inv(A)}\")"
   ]
  },
  {
   "cell_type": "markdown",
   "id": "c7dfa362",
   "metadata": {},
   "source": [
    "## Qns no. 3"
   ]
  },
  {
   "cell_type": "code",
   "execution_count": 126,
   "id": "1378180e",
   "metadata": {},
   "outputs": [
    {
     "name": "stdout",
     "output_type": "stream",
     "text": [
      " For Eigen value=3.0 and Eigen Vector=[ 0.70710678 -0.70710678]\n",
      " For Eigen value=2.0 and Eigen Vector=[-0.4472136   0.89442719]\n"
     ]
    }
   ],
   "source": [
    "C=np.array([\n",
    "    [4,1],\n",
    "    [-2,1]\n",
    "])\n",
    "eigen_value,eigen_vector=LA.eig(C)\n",
    "\n",
    "print(f\" For Eigen value={eigen_value[0]} and Eigen Vector={eigen_vector[:,0]}\")\n",
    "print(f\" For Eigen value={eigen_value[1]} and Eigen Vector={eigen_vector[:,1]}\")"
   ]
  },
  {
   "cell_type": "markdown",
   "id": "a6eba994",
   "metadata": {},
   "source": [
    "## Qns no. 4"
   ]
  },
  {
   "cell_type": "code",
   "execution_count": 131,
   "id": "8f576494",
   "metadata": {},
   "outputs": [],
   "source": [
    "x_train=np.array([\n",
    "    [4,1.5,100],\n",
    "    [6,2,150]\n",
    "])\n",
    "y_train=np.array([20,30])"
   ]
  },
  {
   "cell_type": "markdown",
   "id": "5325c7da",
   "metadata": {},
   "source": [
    "Here,I used pseudo inverse instead of inverse because the determinant of  matrix temp1 is 0."
   ]
  },
  {
   "cell_type": "code",
   "execution_count": 132,
   "id": "4a1224f6",
   "metadata": {},
   "outputs": [
    {
     "name": "stdout",
     "output_type": "stream",
     "text": [
      "0.0\n"
     ]
    }
   ],
   "source": [
    "temp1=np.matmul(x_train.T,x_train)\n",
    "print(LA.det(temp1))\n",
    "temp2=LA.pinv(temp1)\n",
    "temp3=np.matmul(x_train.T,y_train)\n",
    "beta=np.dot(temp2,temp3)"
   ]
  },
  {
   "cell_type": "code",
   "execution_count": 133,
   "id": "76ff56be",
   "metadata": {},
   "outputs": [],
   "source": [
    "x_input=np.array([8,3,200])\n",
    "prediction=np.dot(x_input,beta)"
   ]
  },
  {
   "cell_type": "code",
   "execution_count": 134,
   "id": "c4db0793",
   "metadata": {},
   "outputs": [
    {
     "name": "stdout",
     "output_type": "stream",
     "text": [
      "Predicted price=40.000000000005635\n"
     ]
    }
   ],
   "source": [
    "print(f\"Predicted price={prediction}\")"
   ]
  },
  {
   "cell_type": "code",
   "execution_count": null,
   "id": "821aff78",
   "metadata": {},
   "outputs": [],
   "source": []
  }
 ],
 "metadata": {
  "kernelspec": {
   "display_name": "Python 3 (ipykernel)",
   "language": "python",
   "name": "python3"
  },
  "language_info": {
   "codemirror_mode": {
    "name": "ipython",
    "version": 3
   },
   "file_extension": ".py",
   "mimetype": "text/x-python",
   "name": "python",
   "nbconvert_exporter": "python",
   "pygments_lexer": "ipython3",
   "version": "3.12.3"
  }
 },
 "nbformat": 4,
 "nbformat_minor": 5
}
