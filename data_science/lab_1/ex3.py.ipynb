{
 "cells": [
  {
   "cell_type": "markdown",
   "id": "eb0c5503",
   "metadata": {},
   "source": [
    "# This program inputs a password"
   ]
  },
  {
   "cell_type": "code",
   "execution_count": 60,
   "id": "bc5807fb",
   "metadata": {},
   "outputs": [
    {
     "name": "stdout",
     "output_type": "stream",
     "text": [
      "Enter password:\tbish1\n"
     ]
    }
   ],
   "source": [
    "psd=input(\"Enter password:\\t\")\n",
    "temp=list(psd)\n",
    "ln=len(psd)"
   ]
  },
  {
   "cell_type": "code",
   "execution_count": 61,
   "id": "22e8e79c",
   "metadata": {},
   "outputs": [],
   "source": [
    "i,ch,num=0,False,False\n",
    "while i<ln:\n",
    "    if temp[i] in 'abcdefghijklmnoqrstuvwxyz':\n",
    "        ch=True\n",
    "    \n",
    "    if temp[i] in '1234567890':\n",
    "        num=True\n",
    "        \n",
    "    i+=1"
   ]
  },
  {
   "cell_type": "code",
   "execution_count": 62,
   "id": "06d6f665",
   "metadata": {},
   "outputs": [
    {
     "name": "stdout",
     "output_type": "stream",
     "text": [
      "Invalid password!Length of Password must be at least 8 characters\n"
     ]
    }
   ],
   "source": [
    "if ch==True and num==True and ln>=8:\n",
    "    print(\"Valid password!\")\n",
    "elif ln<8:\n",
    "    print(\"Invalid password!Length of Password must be at least 8 characters\")\n",
    "elif ch==False :\n",
    "    print(\"Invalid password!Password should contain at least one alphabet!\")\n",
    "elif num==False :\n",
    "    print(\"Invalid password!Password should contain at least one number!\")\n",
    "else:\n",
    "    print(\"Invalid password!\")"
   ]
  },
  {
   "cell_type": "code",
   "execution_count": null,
   "id": "d570e703",
   "metadata": {},
   "outputs": [],
   "source": []
  }
 ],
 "metadata": {
  "kernelspec": {
   "display_name": "Python 3 (ipykernel)",
   "language": "python",
   "name": "python3"
  },
  "language_info": {
   "codemirror_mode": {
    "name": "ipython",
    "version": 3
   },
   "file_extension": ".py",
   "mimetype": "text/x-python",
   "name": "python",
   "nbconvert_exporter": "python",
   "pygments_lexer": "ipython3",
   "version": "3.12.3"
  }
 },
 "nbformat": 4,
 "nbformat_minor": 5
}
