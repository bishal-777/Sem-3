{
 "cells": [
  {
   "cell_type": "markdown",
   "id": "585973c1",
   "metadata": {},
   "source": [
    "# This program ask user to input numbers and does arithematic and logical operations and displays the output"
   ]
  },
  {
   "cell_type": "code",
   "execution_count": null,
   "id": "3b1cd7fc",
   "metadata": {},
   "outputs": [],
   "source": []
  }
 ],
 "metadata": {
  "kernelspec": {
   "display_name": "Python 3 (ipykernel)",
   "language": "python",
   "name": "python3"
  },
  "language_info": {
   "codemirror_mode": {
    "name": "ipython",
    "version": 3
   },
   "file_extension": ".py",
   "mimetype": "text/x-python",
   "name": "python",
   "nbconvert_exporter": "python",
   "pygments_lexer": "ipython3",
   "version": "3.12.3"
  }
 },
 "nbformat": 4,
 "nbformat_minor": 5
}
