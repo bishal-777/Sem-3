{
 "cells": [
  {
   "cell_type": "markdown",
   "id": "b03577ea",
   "metadata": {},
   "source": [
    "# This program calculates BMI"
   ]
  },
  {
   "cell_type": "code",
   "execution_count": 30,
   "id": "7855df44",
   "metadata": {},
   "outputs": [
    {
     "name": "stdout",
     "output_type": "stream",
     "text": [
      "Enter your weight in 'kg' and height in 'cm':70 180\n"
     ]
    }
   ],
   "source": [
    "wt,ht=map(float,input(\"Enter your weight in 'kg' and height in 'cm':\").split())\n",
    "ht=ht/100          #converting cm->m"
   ]
  },
  {
   "cell_type": "code",
   "execution_count": 31,
   "id": "60e3d9b7",
   "metadata": {
    "scrolled": true
   },
   "outputs": [],
   "source": [
    "bmi=wt/(ht**2)"
   ]
  },
  {
   "cell_type": "code",
   "execution_count": 32,
   "id": "6806d132",
   "metadata": {},
   "outputs": [],
   "source": [
    "if bmi>=18.5 and bmi<=24.9:\n",
    "    health_status=True\n",
    "else:\n",
    "    health_status=False"
   ]
  },
  {
   "cell_type": "code",
   "execution_count": 33,
   "id": "fde3650b",
   "metadata": {},
   "outputs": [
    {
     "name": "stdout",
     "output_type": "stream",
     "text": [
      "Your BMI is 21.6 and it is considered Healthy\n"
     ]
    }
   ],
   "source": [
    "if health_status==True:\n",
    "    print(f\"Your BMI is {round(bmi,2)} and it is considered Healthy\")\n",
    "else:\n",
    "    print(f\"Your BMI is {round(bmi,2)} and it is considered Unhealthy\")"
   ]
  },
  {
   "cell_type": "code",
   "execution_count": null,
   "id": "9733f80d",
   "metadata": {},
   "outputs": [],
   "source": []
  }
 ],
 "metadata": {
  "kernelspec": {
   "display_name": "Python 3 (ipykernel)",
   "language": "python",
   "name": "python3"
  },
  "language_info": {
   "codemirror_mode": {
    "name": "ipython",
    "version": 3
   },
   "file_extension": ".py",
   "mimetype": "text/x-python",
   "name": "python",
   "nbconvert_exporter": "python",
   "pygments_lexer": "ipython3",
   "version": "3.12.3"
  }
 },
 "nbformat": 4,
 "nbformat_minor": 5
}
