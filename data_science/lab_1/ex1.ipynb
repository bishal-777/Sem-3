{
 "cells": [
  {
   "cell_type": "markdown",
   "id": "0d6fc936",
   "metadata": {},
   "source": [
    "# This program calculates BMI"
   ]
  },
  {
   "cell_type": "code",
   "execution_count": 1,
   "id": "92d7eb99",
   "metadata": {},
   "outputs": [],
   "source": [
    "wt,ht=map(float,input(\"Enter your weight in 'kg' and height in 'cm':\").split())\n",
    "ht=ht/100          #converting cm->m"
   ]
  },
  {
   "cell_type": "code",
   "execution_count": 2,
   "id": "64c750f2",
   "metadata": {
    "scrolled": true
   },
   "outputs": [],
   "source": [
    "bmi=wt/(ht**2)"
   ]
  },
  {
   "cell_type": "code",
   "execution_count": 3,
   "id": "1f0f5359",
   "metadata": {},
   "outputs": [],
   "source": [
    "if bmi>=18.5 and bmi<=24.9:\n",
    "    health_status=True\n",
    "else:\n",
    "    health_status=False"
   ]
  },
  {
   "cell_type": "code",
   "execution_count": 4,
   "id": "b0786b5e",
   "metadata": {},
   "outputs": [
    {
     "name": "stdout",
     "output_type": "stream",
     "text": [
      "Your BMI is 31.11 and it is considered Unhealthy\n"
     ]
    }
   ],
   "source": [
    "if health_status==True:\n",
    "    print(f\"Your BMI is {round(bmi,2)} and it is considered Healthy\")\n",
    "else:\n",
    "    print(f\"Your BMI is {round(bmi,2)} and it is considered Unhealthy\")"
   ]
  }
 ],
 "metadata": {
  "kernelspec": {
   "display_name": "Python 3",
   "language": "python",
   "name": "python3"
  },
  "language_info": {
   "codemirror_mode": {
    "name": "ipython",
    "version": 3
   },
   "file_extension": ".py",
   "mimetype": "text/x-python",
   "name": "python",
   "nbconvert_exporter": "python",
   "pygments_lexer": "ipython3",
   "version": "3.12.3"
  }
 },
 "nbformat": 4,
 "nbformat_minor": 5
}
