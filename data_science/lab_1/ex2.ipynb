{
 "cells": [
  {
   "cell_type": "markdown",
   "id": "2b21373c",
   "metadata": {},
   "source": [
    "# This program ask user to input numbers and does arithematic and logical operations and displays the output"
   ]
  },
  {
   "cell_type": "code",
   "execution_count": 25,
   "id": "f185ae87",
   "metadata": {},
   "outputs": [
    {
     "name": "stdout",
     "output_type": "stream",
     "text": [
      "Enter any two numbers:\t5 7\n",
      "Enter the operation you want to do:\t/\n"
     ]
    }
   ],
   "source": [
    "a,b=map(int,input(\"Enter any two numbers:\\t\").split())\n",
    "op=input(\"Enter the operation you want to do:\\t\")"
   ]
  },
  {
   "cell_type": "code",
   "execution_count": 26,
   "id": "2c8e2b98",
   "metadata": {},
   "outputs": [],
   "source": [
    "result=0\n",
    "if op==\"+\":\n",
    "    result=a+b\n",
    "elif op==\"-\":\n",
    "    result=a-b\n",
    "elif op==\"/\":\n",
    "    result=round(a/b,2)\n",
    "elif op==\"*\":\n",
    "    result=a*b\n",
    "else:\n",
    "    print(\"Enter a valid operator!\")"
   ]
  },
  {
   "cell_type": "code",
   "execution_count": 27,
   "id": "768bd32c",
   "metadata": {},
   "outputs": [
    {
     "name": "stdout",
     "output_type": "stream",
     "text": [
      "You have chosen / operation and the calculated result is:\t0.71\n"
     ]
    }
   ],
   "source": [
    "print(f\"You have chosen {op} operation and the calculated result is:\\t{result}\")"
   ]
  }
 ],
 "metadata": {
  "kernelspec": {
   "display_name": "Python 3 (ipykernel)",
   "language": "python",
   "name": "python3"
  },
  "language_info": {
   "codemirror_mode": {
    "name": "ipython",
    "version": 3
   },
   "file_extension": ".py",
   "mimetype": "text/x-python",
   "name": "python",
   "nbconvert_exporter": "python",
   "pygments_lexer": "ipython3",
   "version": "3.12.3"
  }
 },
 "nbformat": 4,
 "nbformat_minor": 5
}
