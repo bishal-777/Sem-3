{
 "cells": [
  {
   "cell_type": "markdown",
   "id": "e10afbd8",
   "metadata": {},
   "source": [
    "# This program ask user to input numbers and does arithematic and logical operations and displays the output"
   ]
  },
  {
   "cell_type": "code",
   "execution_count": 25,
   "id": "db83ea09",
   "metadata": {},
   "outputs": [
    {
     "name": "stdout",
     "output_type": "stream",
     "text": [
      "Enter any two numbers:\t5 7\n",
      "Enter the operation you want to do:\t/\n"
     ]
    }
   ],
   "source": [
    "a,b=map(int,input(\"Enter any two numbers:\\t\").split())\n",
    "op=input(\"Enter the operation you want to do:\\t\")"
   ]
  },
  {
   "cell_type": "code",
   "execution_count": 26,
   "id": "bc616d7d",
   "metadata": {},
   "outputs": [],
   "source": [
    "result=0\n",
    "if op==\"+\":\n",
    "    result=a+b\n",
    "elif op==\"-\":\n",
    "    result=a-b\n",
    "elif op==\"/\":\n",
    "    result=round(a/b,2)\n",
    "elif op==\"*\":\n",
    "    result=a*b"
   ]
  },
  {
   "cell_type": "code",
   "execution_count": 27,
   "id": "4df23b23",
   "metadata": {},
   "outputs": [
    {
     "name": "stdout",
     "output_type": "stream",
     "text": [
      "You have chosen / operation and the calculated result is:\t0.71\n"
     ]
    }
   ],
   "source": [
    "print(f\"You have chosen {op} operation and the calculated result is:\\t{result}\")"
   ]
  }
 ],
 "metadata": {
  "kernelspec": {
   "display_name": "Python 3 (ipykernel)",
   "language": "python",
   "name": "python3"
  },
  "language_info": {
   "codemirror_mode": {
    "name": "ipython",
    "version": 3
   },
   "file_extension": ".py",
   "mimetype": "text/x-python",
   "name": "python",
   "nbconvert_exporter": "python",
   "pygments_lexer": "ipython3",
   "version": "3.12.3"
  }
 },
 "nbformat": 4,
 "nbformat_minor": 5
}
